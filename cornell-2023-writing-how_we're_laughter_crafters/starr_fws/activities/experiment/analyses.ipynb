{
 "cells": [
  {
   "cell_type": "code",
   "execution_count": 30,
   "metadata": {},
   "outputs": [],
   "source": [
    "import numpy as np\n",
    "import pandas as pd\n",
    "import seaborn as sns\n",
    "import matplotlib.pyplot as plt\n",
    "import re"
   ]
  },
  {
   "cell_type": "markdown",
   "metadata": {},
   "source": [
    "We will see how our experiment turned out! Will we replicate the previous finding, where puns took longer to read but were found more enjoyable to read? \n",
    "\n",
    "**DRUM ROLL HERE**"
   ]
  },
  {
   "cell_type": "markdown",
   "metadata": {},
   "source": [
    "# 1: Loading Data & Other Basic Things"
   ]
  },
  {
   "cell_type": "code",
   "execution_count": 31,
   "metadata": {},
   "outputs": [],
   "source": [
    "# Loading in our stimuli\n",
    "stimuli = pd.read_csv('stimuli.csv')"
   ]
  },
  {
   "cell_type": "code",
   "execution_count": 32,
   "metadata": {},
   "outputs": [
    {
     "data": {
      "text/html": [
       "<div>\n",
       "<style scoped>\n",
       "    .dataframe tbody tr th:only-of-type {\n",
       "        vertical-align: middle;\n",
       "    }\n",
       "\n",
       "    .dataframe tbody tr th {\n",
       "        vertical-align: top;\n",
       "    }\n",
       "\n",
       "    .dataframe thead th {\n",
       "        text-align: right;\n",
       "    }\n",
       "</style>\n",
       "<table border=\"1\" class=\"dataframe\">\n",
       "  <thead>\n",
       "    <tr style=\"text-align: right;\">\n",
       "      <th></th>\n",
       "      <th>item</th>\n",
       "      <th>sentence</th>\n",
       "      <th>pun_status</th>\n",
       "    </tr>\n",
       "  </thead>\n",
       "  <tbody>\n",
       "    <tr>\n",
       "      <th>0</th>\n",
       "      <td>p1</td>\n",
       "      <td>I used to play piano by ear but now I use my h...</td>\n",
       "      <td>yes</td>\n",
       "    </tr>\n",
       "    <tr>\n",
       "      <th>1</th>\n",
       "      <td>p2</td>\n",
       "      <td>The bicycle couldn't stand up because it was t...</td>\n",
       "      <td>yes</td>\n",
       "    </tr>\n",
       "    <tr>\n",
       "      <th>2</th>\n",
       "      <td>p3</td>\n",
       "      <td>I'm reading a book on anti-gravity that's impo...</td>\n",
       "      <td>yes</td>\n",
       "    </tr>\n",
       "    <tr>\n",
       "      <th>3</th>\n",
       "      <td>p4</td>\n",
       "      <td>The scarecrow won an award because he was outs...</td>\n",
       "      <td>yes</td>\n",
       "    </tr>\n",
       "    <tr>\n",
       "      <th>4</th>\n",
       "      <td>p5</td>\n",
       "      <td>Parallel lines have so much in common and it's...</td>\n",
       "      <td>yes</td>\n",
       "    </tr>\n",
       "    <tr>\n",
       "      <th>5</th>\n",
       "      <td>np1</td>\n",
       "      <td>She used to paint landscapes with a brush but ...</td>\n",
       "      <td>no</td>\n",
       "    </tr>\n",
       "    <tr>\n",
       "      <th>6</th>\n",
       "      <td>np2</td>\n",
       "      <td>The bookshelf couldn't hold all the books beca...</td>\n",
       "      <td>no</td>\n",
       "    </tr>\n",
       "    <tr>\n",
       "      <th>7</th>\n",
       "      <td>np3</td>\n",
       "      <td>We're watching a movie on sociology that's cha...</td>\n",
       "      <td>no</td>\n",
       "    </tr>\n",
       "    <tr>\n",
       "      <th>8</th>\n",
       "      <td>np4</td>\n",
       "      <td>The chef received a prize because she was exce...</td>\n",
       "      <td>no</td>\n",
       "    </tr>\n",
       "    <tr>\n",
       "      <th>9</th>\n",
       "      <td>np5</td>\n",
       "      <td>Mortal enemies have very little in relation an...</td>\n",
       "      <td>no</td>\n",
       "    </tr>\n",
       "    <tr>\n",
       "      <th>10</th>\n",
       "      <td>filler1</td>\n",
       "      <td>Were John and Serena able to watch the firewor...</td>\n",
       "      <td>filler</td>\n",
       "    </tr>\n",
       "    <tr>\n",
       "      <th>11</th>\n",
       "      <td>filler2</td>\n",
       "      <td>How quickly did the lion cross the savannah?</td>\n",
       "      <td>filler</td>\n",
       "    </tr>\n",
       "    <tr>\n",
       "      <th>12</th>\n",
       "      <td>filler3</td>\n",
       "      <td>Where did her dog hide the bone and why would ...</td>\n",
       "      <td>filler</td>\n",
       "    </tr>\n",
       "    <tr>\n",
       "      <th>13</th>\n",
       "      <td>filler4</td>\n",
       "      <td>Which citizens will lead the people to the pro...</td>\n",
       "      <td>filler</td>\n",
       "    </tr>\n",
       "    <tr>\n",
       "      <th>14</th>\n",
       "      <td>filler5</td>\n",
       "      <td>Who all did Vikram call on the phone after the...</td>\n",
       "      <td>filler</td>\n",
       "    </tr>\n",
       "  </tbody>\n",
       "</table>\n",
       "</div>"
      ],
      "text/plain": [
       "       item                                           sentence pun_status\n",
       "0        p1  I used to play piano by ear but now I use my h...        yes\n",
       "1        p2  The bicycle couldn't stand up because it was t...        yes\n",
       "2        p3  I'm reading a book on anti-gravity that's impo...        yes\n",
       "3        p4  The scarecrow won an award because he was outs...        yes\n",
       "4        p5  Parallel lines have so much in common and it's...        yes\n",
       "5       np1  She used to paint landscapes with a brush but ...         no\n",
       "6       np2  The bookshelf couldn't hold all the books beca...         no\n",
       "7       np3  We're watching a movie on sociology that's cha...         no\n",
       "8       np4  The chef received a prize because she was exce...         no\n",
       "9       np5  Mortal enemies have very little in relation an...         no\n",
       "10  filler1  Were John and Serena able to watch the firewor...     filler\n",
       "11  filler2       How quickly did the lion cross the savannah?     filler\n",
       "12  filler3  Where did her dog hide the bone and why would ...     filler\n",
       "13  filler4  Which citizens will lead the people to the pro...     filler\n",
       "14  filler5  Who all did Vikram call on the phone after the...     filler"
      ]
     },
     "execution_count": 32,
     "metadata": {},
     "output_type": "execute_result"
    }
   ],
   "source": [
    "# Taking a little look at our stimuli\n",
    "stimuli.head(15)"
   ]
  },
  {
   "cell_type": "code",
   "execution_count": 33,
   "metadata": {},
   "outputs": [],
   "source": [
    "# Loading in our data; won't show this because it's ugly right now\n",
    "data = pd.read_csv('OUTPUT.csv')"
   ]
  },
  {
   "cell_type": "code",
   "execution_count": 34,
   "metadata": {},
   "outputs": [],
   "source": [
    "# Keeping only experimental trials:\n",
    "data = data[data['Label'] == 'experimental-trials']"
   ]
  },
  {
   "cell_type": "code",
   "execution_count": 35,
   "metadata": {},
   "outputs": [],
   "source": [
    "# Deleting unnecessary columns and reset index:\n",
    "data = data.drop(columns=['Unnamed: 0', 'Results.reception.time', 'Inner.element.number', 'Controller.name',\n",
    "                   'Latin.Square.Group', 'Newline.', 'Comments']).reset_index()"
   ]
  },
  {
   "cell_type": "code",
   "execution_count": 36,
   "metadata": {},
   "outputs": [
    {
     "data": {
      "text/html": [
       "<div>\n",
       "<style scoped>\n",
       "    .dataframe tbody tr th:only-of-type {\n",
       "        vertical-align: middle;\n",
       "    }\n",
       "\n",
       "    .dataframe tbody tr th {\n",
       "        vertical-align: top;\n",
       "    }\n",
       "\n",
       "    .dataframe thead th {\n",
       "        text-align: right;\n",
       "    }\n",
       "</style>\n",
       "<table border=\"1\" class=\"dataframe\">\n",
       "  <thead>\n",
       "    <tr style=\"text-align: right;\">\n",
       "      <th></th>\n",
       "      <th>index</th>\n",
       "      <th>MD5.hash.of.participant.s.IP.address</th>\n",
       "      <th>Order.number.of.item</th>\n",
       "      <th>Label</th>\n",
       "      <th>PennElementType</th>\n",
       "      <th>PennElementName</th>\n",
       "      <th>Parameter</th>\n",
       "      <th>Value</th>\n",
       "      <th>EventTime</th>\n",
       "      <th>Reading.time</th>\n",
       "      <th>Sentence..or.sentence.MD5.</th>\n",
       "    </tr>\n",
       "  </thead>\n",
       "  <tbody>\n",
       "    <tr>\n",
       "      <th>0</th>\n",
       "      <td>31</td>\n",
       "      <td>c63ccbd28db88d171d1d7eefabbc83d9</td>\n",
       "      <td>14</td>\n",
       "      <td>experimental-trials</td>\n",
       "      <td>PennController</td>\n",
       "      <td>14</td>\n",
       "      <td>_Trial_</td>\n",
       "      <td>Start</td>\n",
       "      <td>1698332110535</td>\n",
       "      <td>NaN</td>\n",
       "      <td>NaN</td>\n",
       "    </tr>\n",
       "    <tr>\n",
       "      <th>1</th>\n",
       "      <td>32</td>\n",
       "      <td>c63ccbd28db88d171d1d7eefabbc83d9</td>\n",
       "      <td>14</td>\n",
       "      <td>experimental-trials</td>\n",
       "      <td>Controller-DashedSentence</td>\n",
       "      <td>DashedSentence</td>\n",
       "      <td>1</td>\n",
       "      <td>The</td>\n",
       "      <td>1698332114298</td>\n",
       "      <td>319.0</td>\n",
       "      <td>The chef received a prize because she was exce...</td>\n",
       "    </tr>\n",
       "    <tr>\n",
       "      <th>2</th>\n",
       "      <td>33</td>\n",
       "      <td>c63ccbd28db88d171d1d7eefabbc83d9</td>\n",
       "      <td>14</td>\n",
       "      <td>experimental-trials</td>\n",
       "      <td>Controller-DashedSentence</td>\n",
       "      <td>DashedSentence</td>\n",
       "      <td>2</td>\n",
       "      <td>chef</td>\n",
       "      <td>1698332114298</td>\n",
       "      <td>245.0</td>\n",
       "      <td>The chef received a prize because she was exce...</td>\n",
       "    </tr>\n",
       "    <tr>\n",
       "      <th>3</th>\n",
       "      <td>34</td>\n",
       "      <td>c63ccbd28db88d171d1d7eefabbc83d9</td>\n",
       "      <td>14</td>\n",
       "      <td>experimental-trials</td>\n",
       "      <td>Controller-DashedSentence</td>\n",
       "      <td>DashedSentence</td>\n",
       "      <td>3</td>\n",
       "      <td>received</td>\n",
       "      <td>1698332114298</td>\n",
       "      <td>296.0</td>\n",
       "      <td>The chef received a prize because she was exce...</td>\n",
       "    </tr>\n",
       "    <tr>\n",
       "      <th>4</th>\n",
       "      <td>35</td>\n",
       "      <td>c63ccbd28db88d171d1d7eefabbc83d9</td>\n",
       "      <td>14</td>\n",
       "      <td>experimental-trials</td>\n",
       "      <td>Controller-DashedSentence</td>\n",
       "      <td>DashedSentence</td>\n",
       "      <td>4</td>\n",
       "      <td>a</td>\n",
       "      <td>1698332114298</td>\n",
       "      <td>302.0</td>\n",
       "      <td>The chef received a prize because she was exce...</td>\n",
       "    </tr>\n",
       "  </tbody>\n",
       "</table>\n",
       "</div>"
      ],
      "text/plain": [
       "   index MD5.hash.of.participant.s.IP.address  Order.number.of.item  \\\n",
       "0     31     c63ccbd28db88d171d1d7eefabbc83d9                    14   \n",
       "1     32     c63ccbd28db88d171d1d7eefabbc83d9                    14   \n",
       "2     33     c63ccbd28db88d171d1d7eefabbc83d9                    14   \n",
       "3     34     c63ccbd28db88d171d1d7eefabbc83d9                    14   \n",
       "4     35     c63ccbd28db88d171d1d7eefabbc83d9                    14   \n",
       "\n",
       "                 Label            PennElementType PennElementName Parameter  \\\n",
       "0  experimental-trials             PennController              14   _Trial_   \n",
       "1  experimental-trials  Controller-DashedSentence  DashedSentence         1   \n",
       "2  experimental-trials  Controller-DashedSentence  DashedSentence         2   \n",
       "3  experimental-trials  Controller-DashedSentence  DashedSentence         3   \n",
       "4  experimental-trials  Controller-DashedSentence  DashedSentence         4   \n",
       "\n",
       "      Value      EventTime  Reading.time  \\\n",
       "0     Start  1698332110535           NaN   \n",
       "1       The  1698332114298         319.0   \n",
       "2      chef  1698332114298         245.0   \n",
       "3  received  1698332114298         296.0   \n",
       "4         a  1698332114298         302.0   \n",
       "\n",
       "                          Sentence..or.sentence.MD5.  \n",
       "0                                                NaN  \n",
       "1  The chef received a prize because she was exce...  \n",
       "2  The chef received a prize because she was exce...  \n",
       "3  The chef received a prize because she was exce...  \n",
       "4  The chef received a prize because she was exce...  "
      ]
     },
     "execution_count": 36,
     "metadata": {},
     "output_type": "execute_result"
    }
   ],
   "source": [
    "# Looking at our data\n",
    "data.head()"
   ]
  },
  {
   "cell_type": "code",
   "execution_count": 37,
   "metadata": {},
   "outputs": [],
   "source": [
    "# Finding necessary values\n",
    "start_idxs = data.index[data['Value'] == 'Start']\n",
    "rt_idxs = [x+1 for x in start_idxs]\n",
    "choice_idxs = data.index[data['Parameter'] == 'Choice']"
   ]
  },
  {
   "cell_type": "markdown",
   "metadata": {},
   "source": [
    "How many participants do we have?"
   ]
  },
  {
   "cell_type": "code",
   "execution_count": 38,
   "metadata": {},
   "outputs": [
    {
     "data": {
      "text/plain": [
       "17"
      ]
     },
     "execution_count": 38,
     "metadata": {},
     "output_type": "execute_result"
    }
   ],
   "source": [
    "# Calculating our N (number of participants):\n",
    "len(set(data['MD5.hash.of.participant.s.IP.address']))"
   ]
  },
  {
   "cell_type": "markdown",
   "metadata": {},
   "source": [
    "# 2: Extracting RTs for Each Sentence\n",
    "\n",
    "We are finally ready to extract the RTs for each sentence!"
   ]
  },
  {
   "cell_type": "code",
   "execution_count": 39,
   "metadata": {},
   "outputs": [],
   "source": [
    "# Slicing times with a heinous list comp (calculating difference between start time and logged time)\n",
    "sentence_rts = np.array(list(data['EventTime'].iloc[rt_idx]-data['EventTime'].iloc[start_idx] for rt_idx, start_idx in zip(rt_idxs, start_idxs)))"
   ]
  },
  {
   "cell_type": "code",
   "execution_count": 41,
   "metadata": {},
   "outputs": [
    {
     "data": {
      "text/plain": [
       "array([3763, 4031, 5600, 5391, 2911], dtype=int64)"
      ]
     },
     "execution_count": 41,
     "metadata": {},
     "output_type": "execute_result"
    }
   ],
   "source": [
    "# What do our RTs look like?\n",
    "sentence_rts[:5]"
   ]
  },
  {
   "cell_type": "markdown",
   "metadata": {},
   "source": [
    "But, this isn't enough! Our sentences have different lengths (a factor that we could have controlled for, but I was too lazy to do). As such, longer sentences will naturally have longer reading times. We will normalize by sentence length (not character length), thus assuming that the relationship between reading times and word length is linear; this is, in practice, not correct (it's usually logarithmic), but I want to keep our RTs interpretable. "
   ]
  },
  {
   "cell_type": "code",
   "execution_count": 42,
   "metadata": {},
   "outputs": [],
   "source": [
    "# Getting sentence length with another, less heinous list comp\n",
    "sentence_lens = np.array(list(len(data['Sentence..or.sentence.MD5.'].iloc[rt_idx].split()) for rt_idx in rt_idxs))"
   ]
  },
  {
   "cell_type": "code",
   "execution_count": 43,
   "metadata": {},
   "outputs": [],
   "source": [
    "# Dividing sentence RTs by sentence length to get the average RT per sentence (assuming RTs are linear):\n",
    "normalized_sentence_rts = sentence_rts/sentence_lens"
   ]
  },
  {
   "cell_type": "code",
   "execution_count": 44,
   "metadata": {},
   "outputs": [
    {
     "data": {
      "text/plain": [
       "array([ 313.58333333,  366.45454545,  400.        ,  359.4       ,\n",
       "        363.875     ,  364.30769231,  244.64285714,  246.36363636,\n",
       "        294.9       ,  299.4       ,  301.75      ,  298.64285714,\n",
       "        321.38461538,  281.        ,  329.58333333,  413.28571429,\n",
       "        473.75      ,  510.41666667,  437.07692308,  413.7       ,\n",
       "        426.9       ,  491.85714286,  402.63636364,  416.64285714,\n",
       "        407.1       ,  357.58333333,  373.53333333,  362.92307692,\n",
       "        425.54545455,  400.83333333,  545.09090909,  814.41666667,\n",
       "        480.9       ,  440.75      ,  703.2       ,  686.        ,\n",
       "        454.        ,  394.35714286,  384.        ,  437.93333333,\n",
       "        408.07142857,  498.07692308,  440.64285714,  419.75      ,\n",
       "        419.2       ,  403.54545455,  528.7       ,  482.28571429,\n",
       "        529.7       ,  366.92857143,  568.9       ,  391.75      ,\n",
       "        327.08333333,  345.66666667,  397.08333333,  335.07692308,\n",
       "        299.53846154,  344.27272727,  332.16666667,  317.78571429,\n",
       "        509.27272727,  526.3       ,  554.5       ,  538.83333333,\n",
       "        421.16666667,  380.8       ,  403.53846154,  414.46153846,\n",
       "        432.63636364,  427.85714286,  426.06666667,  590.75      ,\n",
       "        427.78571429,  464.21428571,  442.3       ,  581.        ,\n",
       "        627.        ,  567.46666667,  690.16666667,  567.5       ,\n",
       "        579.25      ,  655.5       ,  461.61538462,  489.21428571,\n",
       "        534.4       ,  408.9       ,  410.42857143,  403.38461538,\n",
       "        485.        ,  382.7       ,  557.76923077,  457.71428571,\n",
       "        576.08333333,  521.6       ,  612.33333333,  398.53333333,\n",
       "        427.57142857,  472.27272727,  463.5       ,  408.30769231,\n",
       "        387.125     ,  328.09090909,  394.        ,  407.14285714,\n",
       "        408.8       ,  430.38461538,  412.63636364,  641.23076923,\n",
       "        436.16666667,  495.875     ,  398.6       ,  440.64285714,\n",
       "        409.9       ,  359.5       ,  518.54545455,  465.42857143,\n",
       "        400.16666667,  381.6       ,  433.5       ,  495.25      ,\n",
       "        590.13333333,  658.46153846,  543.91666667,  562.41666667,\n",
       "        548.        ,  645.        ,  520.85714286,  501.3       ,\n",
       "        443.91666667,  416.35714286,  505.25      ,  451.61538462,\n",
       "        419.21428571,  435.        ,  465.45454545,  529.5       ,\n",
       "        390.53333333,  384.78571429,  400.25      ,  453.83333333,\n",
       "        376.33333333,  380.        ,  414.81818182,  302.07692308,\n",
       "        396.92857143,  388.63636364,  499.5       ,  330.1       ,\n",
       "        342.14285714,  480.69230769,  565.875     ,  535.08333333,\n",
       "        502.5       ,  444.66666667,  487.        ,  497.90909091,\n",
       "        609.69230769,  559.        ,  428.6       ,  609.84615385,\n",
       "        672.14285714,  624.8       ,  465.63636364,  448.57142857,\n",
       "        672.42857143,  514.21428571,  405.625     ,  361.28571429,\n",
       "        453.53846154,  589.25      ,  427.13333333,  378.85714286,\n",
       "        476.5       ,  277.53846154,  408.91666667,  355.75      ,\n",
       "        312.6       ,  407.36363636,  362.3       ,  366.        ,\n",
       "        705.6       ,  672.33333333, 1026.76923077, 1009.375     ,\n",
       "        637.54545455,  659.72727273,  608.        ,  779.5       ,\n",
       "        565.92857143,  571.3       ,  601.41666667,  715.07142857,\n",
       "        757.1       ,  535.91666667,  663.61538462,  442.        ,\n",
       "        440.26666667,  673.8       ,  756.125     ,  440.83333333,\n",
       "        450.2       ,  556.2       ,  431.57142857,  467.78571429,\n",
       "        416.46153846,  473.84615385,  573.        ,  619.81818182,\n",
       "        446.81818182,  481.16666667,  641.91666667,  632.08333333,\n",
       "        668.25      , 1038.38461538,  531.        ,  845.2       ,\n",
       "        605.46153846,  554.09090909,  660.92857143,  951.3       ,\n",
       "        553.5       ,  488.4       ,  450.8       ,  422.85714286,\n",
       "        542.        ,  513.69230769,  487.1       ,  543.75      ,\n",
       "        478.6       ,  719.7       ,  542.42857143,  434.        ,\n",
       "        324.76923077,  467.58333333,  484.28571429,  410.2       ,\n",
       "        477.85714286,  476.72727273,  460.08333333,  440.36363636,\n",
       "        396.81818182,  454.83333333,  455.75      ,  403.09090909,\n",
       "        381.38461538,  310.28571429,  630.64285714,  306.4       ,\n",
       "        260.5       ,  384.75      ,  291.7       ,  540.        ,\n",
       "        520.30769231,  315.4       ,  518.66666667])"
      ]
     },
     "execution_count": 44,
     "metadata": {},
     "output_type": "execute_result"
    }
   ],
   "source": [
    "# What do our normalized sentence_rts look like?\n",
    "normalized_sentence_rts"
   ]
  },
  {
   "cell_type": "markdown",
   "metadata": {},
   "source": [
    "Now, we need to line these RTs up with our conditions...!"
   ]
  },
  {
   "cell_type": "code",
   "execution_count": 45,
   "metadata": {},
   "outputs": [
    {
     "data": {
      "text/html": [
       "<div>\n",
       "<style scoped>\n",
       "    .dataframe tbody tr th:only-of-type {\n",
       "        vertical-align: middle;\n",
       "    }\n",
       "\n",
       "    .dataframe tbody tr th {\n",
       "        vertical-align: top;\n",
       "    }\n",
       "\n",
       "    .dataframe thead th {\n",
       "        text-align: right;\n",
       "    }\n",
       "</style>\n",
       "<table border=\"1\" class=\"dataframe\">\n",
       "  <thead>\n",
       "    <tr style=\"text-align: right;\">\n",
       "      <th></th>\n",
       "      <th>item</th>\n",
       "      <th>sentence</th>\n",
       "      <th>pun_status</th>\n",
       "    </tr>\n",
       "  </thead>\n",
       "  <tbody>\n",
       "    <tr>\n",
       "      <th>0</th>\n",
       "      <td>p1</td>\n",
       "      <td>I used to play piano by ear but now I use my h...</td>\n",
       "      <td>yes</td>\n",
       "    </tr>\n",
       "    <tr>\n",
       "      <th>1</th>\n",
       "      <td>p2</td>\n",
       "      <td>The bicycle couldn't stand up because it was t...</td>\n",
       "      <td>yes</td>\n",
       "    </tr>\n",
       "    <tr>\n",
       "      <th>2</th>\n",
       "      <td>p3</td>\n",
       "      <td>I'm reading a book on anti-gravity that's impo...</td>\n",
       "      <td>yes</td>\n",
       "    </tr>\n",
       "    <tr>\n",
       "      <th>3</th>\n",
       "      <td>p4</td>\n",
       "      <td>The scarecrow won an award because he was outs...</td>\n",
       "      <td>yes</td>\n",
       "    </tr>\n",
       "    <tr>\n",
       "      <th>4</th>\n",
       "      <td>p5</td>\n",
       "      <td>Parallel lines have so much in common and it's...</td>\n",
       "      <td>yes</td>\n",
       "    </tr>\n",
       "    <tr>\n",
       "      <th>5</th>\n",
       "      <td>np1</td>\n",
       "      <td>She used to paint landscapes with a brush but ...</td>\n",
       "      <td>no</td>\n",
       "    </tr>\n",
       "    <tr>\n",
       "      <th>6</th>\n",
       "      <td>np2</td>\n",
       "      <td>The bookshelf couldn't hold all the books beca...</td>\n",
       "      <td>no</td>\n",
       "    </tr>\n",
       "    <tr>\n",
       "      <th>7</th>\n",
       "      <td>np3</td>\n",
       "      <td>We're watching a movie on sociology that's cha...</td>\n",
       "      <td>no</td>\n",
       "    </tr>\n",
       "    <tr>\n",
       "      <th>8</th>\n",
       "      <td>np4</td>\n",
       "      <td>The chef received a prize because she was exce...</td>\n",
       "      <td>no</td>\n",
       "    </tr>\n",
       "    <tr>\n",
       "      <th>9</th>\n",
       "      <td>np5</td>\n",
       "      <td>Mortal enemies have very little in relation an...</td>\n",
       "      <td>no</td>\n",
       "    </tr>\n",
       "    <tr>\n",
       "      <th>10</th>\n",
       "      <td>filler1</td>\n",
       "      <td>Were John and Serena able to watch the firewor...</td>\n",
       "      <td>filler</td>\n",
       "    </tr>\n",
       "    <tr>\n",
       "      <th>11</th>\n",
       "      <td>filler2</td>\n",
       "      <td>How quickly did the lion cross the savannah?</td>\n",
       "      <td>filler</td>\n",
       "    </tr>\n",
       "    <tr>\n",
       "      <th>12</th>\n",
       "      <td>filler3</td>\n",
       "      <td>Where did her dog hide the bone and why would ...</td>\n",
       "      <td>filler</td>\n",
       "    </tr>\n",
       "    <tr>\n",
       "      <th>13</th>\n",
       "      <td>filler4</td>\n",
       "      <td>Which citizens will lead the people to the pro...</td>\n",
       "      <td>filler</td>\n",
       "    </tr>\n",
       "    <tr>\n",
       "      <th>14</th>\n",
       "      <td>filler5</td>\n",
       "      <td>Who all did Vikram call on the phone after the...</td>\n",
       "      <td>filler</td>\n",
       "    </tr>\n",
       "  </tbody>\n",
       "</table>\n",
       "</div>"
      ],
      "text/plain": [
       "       item                                           sentence pun_status\n",
       "0        p1  I used to play piano by ear but now I use my h...        yes\n",
       "1        p2  The bicycle couldn't stand up because it was t...        yes\n",
       "2        p3  I'm reading a book on anti-gravity that's impo...        yes\n",
       "3        p4  The scarecrow won an award because he was outs...        yes\n",
       "4        p5  Parallel lines have so much in common and it's...        yes\n",
       "5       np1  She used to paint landscapes with a brush but ...         no\n",
       "6       np2  The bookshelf couldn't hold all the books beca...         no\n",
       "7       np3  We're watching a movie on sociology that's cha...         no\n",
       "8       np4  The chef received a prize because she was exce...         no\n",
       "9       np5  Mortal enemies have very little in relation an...         no\n",
       "10  filler1  Were John and Serena able to watch the firewor...     filler\n",
       "11  filler2       How quickly did the lion cross the savannah?     filler\n",
       "12  filler3  Where did her dog hide the bone and why would ...     filler\n",
       "13  filler4  Which citizens will lead the people to the pro...     filler\n",
       "14  filler5  Who all did Vikram call on the phone after the...     filler"
      ]
     },
     "execution_count": 45,
     "metadata": {},
     "output_type": "execute_result"
    }
   ],
   "source": [
    "stimuli"
   ]
  },
  {
   "cell_type": "code",
   "execution_count": 46,
   "metadata": {},
   "outputs": [],
   "source": [
    "# Getting sentences:\n",
    "sentence_list = [data['Sentence..or.sentence.MD5.'].iloc[idx] for idx in rt_idxs]"
   ]
  },
  {
   "cell_type": "code",
   "execution_count": 47,
   "metadata": {},
   "outputs": [
    {
     "data": {
      "text/plain": [
       "['The chef received a prize because she was exceptional in the kitchen.',\n",
       " \"I'm reading a book on anti-gravity that's impossible to put down.\",\n",
       " \"Mortal enemies have very little in relation and it's scary that they'll always fight.\",\n",
       " \"Parallel lines have so much in common and it's a shame that they'll never meet.\",\n",
       " 'How quickly did the lion cross the savannah?',\n",
       " 'Who all did Vikram call on the phone after the party last night?',\n",
       " 'She used to paint landscapes with a brush but now she uses a camera.',\n",
       " 'Were John and Serena able to watch the fireworks last night?',\n",
       " 'Which citizens will lead the people to the promised land?',\n",
       " \"We're watching a movie on sociology that's challenging to understand.\",\n",
       " 'The scarecrow won an award because he was outstanding in his field.',\n",
       " 'Where did her dog hide the bone and why would it take it away?',\n",
       " 'I used to play piano by ear but now I use my hands.',\n",
       " \"The bicycle couldn't stand up because it was two tired.\",\n",
       " \"The bookshelf couldn't hold all the books because it was too small.\",\n",
       " 'Where did her dog hide the bone and why would it take it away?',\n",
       " 'How quickly did the lion cross the savannah?',\n",
       " 'The chef received a prize because she was exceptional in the kitchen.',\n",
       " 'Who all did Vikram call on the phone after the party last night?',\n",
       " 'Which citizens will lead the people to the promised land?',\n",
       " \"The bicycle couldn't stand up because it was two tired.\",\n",
       " \"Mortal enemies have very little in relation and it's scary that they'll always fight.\",\n",
       " \"I'm reading a book on anti-gravity that's impossible to put down.\",\n",
       " 'She used to paint landscapes with a brush but now she uses a camera.',\n",
       " \"We're watching a movie on sociology that's challenging to understand.\",\n",
       " 'The scarecrow won an award because he was outstanding in his field.',\n",
       " \"Parallel lines have so much in common and it's a shame that they'll never meet.\",\n",
       " 'I used to play piano by ear but now I use my hands.',\n",
       " 'Were John and Serena able to watch the fireworks last night?',\n",
       " \"The bookshelf couldn't hold all the books because it was too small.\",\n",
       " \"I'm reading a book on anti-gravity that's impossible to put down.\",\n",
       " \"The bookshelf couldn't hold all the books because it was too small.\",\n",
       " \"We're watching a movie on sociology that's challenging to understand.\",\n",
       " 'The scarecrow won an award because he was outstanding in his field.',\n",
       " \"The bicycle couldn't stand up because it was two tired.\",\n",
       " 'Who all did Vikram call on the phone after the party last night?',\n",
       " 'The chef received a prize because she was exceptional in the kitchen.',\n",
       " \"Mortal enemies have very little in relation and it's scary that they'll always fight.\",\n",
       " 'Were John and Serena able to watch the fireworks last night?',\n",
       " \"Parallel lines have so much in common and it's a shame that they'll never meet.\",\n",
       " 'Where did her dog hide the bone and why would it take it away?',\n",
       " 'I used to play piano by ear but now I use my hands.',\n",
       " 'She used to paint landscapes with a brush but now she uses a camera.',\n",
       " 'How quickly did the lion cross the savannah?',\n",
       " 'Which citizens will lead the people to the promised land?',\n",
       " 'Were John and Serena able to watch the fireworks last night?',\n",
       " \"We're watching a movie on sociology that's challenging to understand.\",\n",
       " 'Where did her dog hide the bone and why would it take it away?',\n",
       " \"The bicycle couldn't stand up because it was two tired.\",\n",
       " \"Mortal enemies have very little in relation and it's scary that they'll always fight.\",\n",
       " 'Which citizens will lead the people to the promised land?',\n",
       " 'How quickly did the lion cross the savannah?',\n",
       " \"The bookshelf couldn't hold all the books because it was too small.\",\n",
       " \"Parallel lines have so much in common and it's a shame that they'll never meet.\",\n",
       " 'The scarecrow won an award because he was outstanding in his field.',\n",
       " 'Who all did Vikram call on the phone after the party last night?',\n",
       " 'I used to play piano by ear but now I use my hands.',\n",
       " \"I'm reading a book on anti-gravity that's impossible to put down.\",\n",
       " 'The chef received a prize because she was exceptional in the kitchen.',\n",
       " 'She used to paint landscapes with a brush but now she uses a camera.',\n",
       " 'Were John and Serena able to watch the fireworks last night?',\n",
       " 'Which citizens will lead the people to the promised land?',\n",
       " 'How quickly did the lion cross the savannah?',\n",
       " 'The chef received a prize because she was exceptional in the kitchen.',\n",
       " 'The scarecrow won an award because he was outstanding in his field.',\n",
       " \"The bicycle couldn't stand up because it was two tired.\",\n",
       " 'I used to play piano by ear but now I use my hands.',\n",
       " 'Who all did Vikram call on the phone after the party last night?',\n",
       " \"I'm reading a book on anti-gravity that's impossible to put down.\",\n",
       " 'Where did her dog hide the bone and why would it take it away?',\n",
       " \"Parallel lines have so much in common and it's a shame that they'll never meet.\",\n",
       " \"The bookshelf couldn't hold all the books because it was too small.\",\n",
       " 'She used to paint landscapes with a brush but now she uses a camera.',\n",
       " \"Mortal enemies have very little in relation and it's scary that they'll always fight.\",\n",
       " \"We're watching a movie on sociology that's challenging to understand.\",\n",
       " \"I'm reading a book on anti-gravity that's impossible to put down.\",\n",
       " 'Were John and Serena able to watch the fireworks last night?',\n",
       " \"Parallel lines have so much in common and it's a shame that they'll never meet.\",\n",
       " 'The chef received a prize because she was exceptional in the kitchen.',\n",
       " 'How quickly did the lion cross the savannah?',\n",
       " 'The scarecrow won an award because he was outstanding in his field.',\n",
       " \"Mortal enemies have very little in relation and it's scary that they'll always fight.\",\n",
       " 'I used to play piano by ear but now I use my hands.',\n",
       " 'She used to paint landscapes with a brush but now she uses a camera.',\n",
       " 'Which citizens will lead the people to the promised land?',\n",
       " \"The bicycle couldn't stand up because it was two tired.\",\n",
       " 'Where did her dog hide the bone and why would it take it away?',\n",
       " 'Who all did Vikram call on the phone after the party last night?',\n",
       " \"The bookshelf couldn't hold all the books because it was too small.\",\n",
       " \"We're watching a movie on sociology that's challenging to understand.\",\n",
       " 'Who all did Vikram call on the phone after the party last night?',\n",
       " 'Where did her dog hide the bone and why would it take it away?',\n",
       " 'The chef received a prize because she was exceptional in the kitchen.',\n",
       " \"The bicycle couldn't stand up because it was two tired.\",\n",
       " \"The bookshelf couldn't hold all the books because it was too small.\",\n",
       " \"Parallel lines have so much in common and it's a shame that they'll never meet.\",\n",
       " \"Mortal enemies have very little in relation and it's scary that they'll always fight.\",\n",
       " 'Were John and Serena able to watch the fireworks last night?',\n",
       " \"We're watching a movie on sociology that's challenging to understand.\",\n",
       " 'I used to play piano by ear but now I use my hands.',\n",
       " 'How quickly did the lion cross the savannah?',\n",
       " \"I'm reading a book on anti-gravity that's impossible to put down.\",\n",
       " 'The scarecrow won an award because he was outstanding in his field.',\n",
       " 'She used to paint landscapes with a brush but now she uses a camera.',\n",
       " 'Which citizens will lead the people to the promised land?',\n",
       " 'I used to play piano by ear but now I use my hands.',\n",
       " 'Were John and Serena able to watch the fireworks last night?',\n",
       " 'Who all did Vikram call on the phone after the party last night?',\n",
       " 'The chef received a prize because she was exceptional in the kitchen.',\n",
       " 'How quickly did the lion cross the savannah?',\n",
       " \"Parallel lines have so much in common and it's a shame that they'll never meet.\",\n",
       " \"Mortal enemies have very little in relation and it's scary that they'll always fight.\",\n",
       " \"The bicycle couldn't stand up because it was two tired.\",\n",
       " 'She used to paint landscapes with a brush but now she uses a camera.',\n",
       " \"I'm reading a book on anti-gravity that's impossible to put down.\",\n",
       " 'Where did her dog hide the bone and why would it take it away?',\n",
       " 'The scarecrow won an award because he was outstanding in his field.',\n",
       " \"We're watching a movie on sociology that's challenging to understand.\",\n",
       " 'Which citizens will lead the people to the promised land?',\n",
       " \"The bookshelf couldn't hold all the books because it was too small.\",\n",
       " \"Parallel lines have so much in common and it's a shame that they'll never meet.\",\n",
       " 'Who all did Vikram call on the phone after the party last night?',\n",
       " 'The scarecrow won an award because he was outstanding in his field.',\n",
       " 'The chef received a prize because she was exceptional in the kitchen.',\n",
       " 'Which citizens will lead the people to the promised land?',\n",
       " \"The bicycle couldn't stand up because it was two tired.\",\n",
       " \"Mortal enemies have very little in relation and it's scary that they'll always fight.\",\n",
       " \"We're watching a movie on sociology that's challenging to understand.\",\n",
       " \"The bookshelf couldn't hold all the books because it was too small.\",\n",
       " 'She used to paint landscapes with a brush but now she uses a camera.',\n",
       " 'How quickly did the lion cross the savannah?',\n",
       " 'I used to play piano by ear but now I use my hands.',\n",
       " 'Where did her dog hide the bone and why would it take it away?',\n",
       " 'Were John and Serena able to watch the fireworks last night?',\n",
       " \"I'm reading a book on anti-gravity that's impossible to put down.\",\n",
       " \"We're watching a movie on sociology that's challenging to understand.\",\n",
       " \"Parallel lines have so much in common and it's a shame that they'll never meet.\",\n",
       " 'Where did her dog hide the bone and why would it take it away?',\n",
       " \"The bookshelf couldn't hold all the books because it was too small.\",\n",
       " 'The scarecrow won an award because he was outstanding in his field.',\n",
       " 'The chef received a prize because she was exceptional in the kitchen.',\n",
       " 'How quickly did the lion cross the savannah?',\n",
       " 'Were John and Serena able to watch the fireworks last night?',\n",
       " 'I used to play piano by ear but now I use my hands.',\n",
       " \"Mortal enemies have very little in relation and it's scary that they'll always fight.\",\n",
       " \"I'm reading a book on anti-gravity that's impossible to put down.\",\n",
       " 'Which citizens will lead the people to the promised land?',\n",
       " \"The bicycle couldn't stand up because it was two tired.\",\n",
       " 'She used to paint landscapes with a brush but now she uses a camera.',\n",
       " 'Who all did Vikram call on the phone after the party last night?',\n",
       " 'How quickly did the lion cross the savannah?',\n",
       " 'The scarecrow won an award because he was outstanding in his field.',\n",
       " \"The bookshelf couldn't hold all the books because it was too small.\",\n",
       " \"Parallel lines have so much in common and it's a shame that they'll never meet.\",\n",
       " 'The chef received a prize because she was exceptional in the kitchen.',\n",
       " \"I'm reading a book on anti-gravity that's impossible to put down.\",\n",
       " 'I used to play piano by ear but now I use my hands.',\n",
       " \"The bicycle couldn't stand up because it was two tired.\",\n",
       " 'Which citizens will lead the people to the promised land?',\n",
       " 'Who all did Vikram call on the phone after the party last night?',\n",
       " 'She used to paint landscapes with a brush but now she uses a camera.',\n",
       " \"We're watching a movie on sociology that's challenging to understand.\",\n",
       " 'Were John and Serena able to watch the fireworks last night?',\n",
       " \"Mortal enemies have very little in relation and it's scary that they'll always fight.\",\n",
       " 'Where did her dog hide the bone and why would it take it away?',\n",
       " \"Mortal enemies have very little in relation and it's scary that they'll always fight.\",\n",
       " 'How quickly did the lion cross the savannah?',\n",
       " 'She used to paint landscapes with a brush but now she uses a camera.',\n",
       " 'Who all did Vikram call on the phone after the party last night?',\n",
       " \"The bookshelf couldn't hold all the books because it was too small.\",\n",
       " \"Parallel lines have so much in common and it's a shame that they'll never meet.\",\n",
       " 'Where did her dog hide the bone and why would it take it away?',\n",
       " \"We're watching a movie on sociology that's challenging to understand.\",\n",
       " 'I used to play piano by ear but now I use my hands.',\n",
       " 'The scarecrow won an award because he was outstanding in his field.',\n",
       " 'The chef received a prize because she was exceptional in the kitchen.',\n",
       " \"The bicycle couldn't stand up because it was two tired.\",\n",
       " \"I'm reading a book on anti-gravity that's impossible to put down.\",\n",
       " 'Which citizens will lead the people to the promised land?',\n",
       " 'Were John and Serena able to watch the fireworks last night?',\n",
       " \"The bicycle couldn't stand up because it was two tired.\",\n",
       " \"Parallel lines have so much in common and it's a shame that they'll never meet.\",\n",
       " 'Who all did Vikram call on the phone after the party last night?',\n",
       " 'How quickly did the lion cross the savannah?',\n",
       " \"I'm reading a book on anti-gravity that's impossible to put down.\",\n",
       " 'Were John and Serena able to watch the fireworks last night?',\n",
       " \"The bookshelf couldn't hold all the books because it was too small.\",\n",
       " 'She used to paint landscapes with a brush but now she uses a camera.',\n",
       " 'Where did her dog hide the bone and why would it take it away?',\n",
       " 'Which citizens will lead the people to the promised land?',\n",
       " 'The chef received a prize because she was exceptional in the kitchen.',\n",
       " \"Mortal enemies have very little in relation and it's scary that they'll always fight.\",\n",
       " \"We're watching a movie on sociology that's challenging to understand.\",\n",
       " 'The scarecrow won an award because he was outstanding in his field.',\n",
       " 'I used to play piano by ear but now I use my hands.',\n",
       " \"The bookshelf couldn't hold all the books because it was too small.\",\n",
       " \"Parallel lines have so much in common and it's a shame that they'll never meet.\",\n",
       " \"We're watching a movie on sociology that's challenging to understand.\",\n",
       " 'How quickly did the lion cross the savannah?',\n",
       " 'The scarecrow won an award because he was outstanding in his field.',\n",
       " 'Which citizens will lead the people to the promised land?',\n",
       " \"The bicycle couldn't stand up because it was two tired.\",\n",
       " 'Where did her dog hide the bone and why would it take it away?',\n",
       " 'She used to paint landscapes with a brush but now she uses a camera.',\n",
       " 'Who all did Vikram call on the phone after the party last night?',\n",
       " 'I used to play piano by ear but now I use my hands.',\n",
       " \"Mortal enemies have very little in relation and it's scary that they'll always fight.\",\n",
       " \"I'm reading a book on anti-gravity that's impossible to put down.\",\n",
       " 'Were John and Serena able to watch the fireworks last night?',\n",
       " 'The chef received a prize because she was exceptional in the kitchen.',\n",
       " 'The chef received a prize because she was exceptional in the kitchen.',\n",
       " 'The scarecrow won an award because he was outstanding in his field.',\n",
       " \"The bookshelf couldn't hold all the books because it was too small.\",\n",
       " 'I used to play piano by ear but now I use my hands.',\n",
       " 'How quickly did the lion cross the savannah?',\n",
       " 'Which citizens will lead the people to the promised land?',\n",
       " 'Who all did Vikram call on the phone after the party last night?',\n",
       " \"I'm reading a book on anti-gravity that's impossible to put down.\",\n",
       " \"Mortal enemies have very little in relation and it's scary that they'll always fight.\",\n",
       " \"The bicycle couldn't stand up because it was two tired.\",\n",
       " 'Where did her dog hide the bone and why would it take it away?',\n",
       " \"We're watching a movie on sociology that's challenging to understand.\",\n",
       " \"Parallel lines have so much in common and it's a shame that they'll never meet.\",\n",
       " 'She used to paint landscapes with a brush but now she uses a camera.',\n",
       " 'Were John and Serena able to watch the fireworks last night?',\n",
       " 'Who all did Vikram call on the phone after the party last night?',\n",
       " \"The bicycle couldn't stand up because it was two tired.\",\n",
       " 'How quickly did the lion cross the savannah?',\n",
       " \"We're watching a movie on sociology that's challenging to understand.\",\n",
       " 'Which citizens will lead the people to the promised land?',\n",
       " \"Mortal enemies have very little in relation and it's scary that they'll always fight.\",\n",
       " 'The chef received a prize because she was exceptional in the kitchen.',\n",
       " 'I used to play piano by ear but now I use my hands.',\n",
       " \"The bookshelf couldn't hold all the books because it was too small.\",\n",
       " 'She used to paint landscapes with a brush but now she uses a camera.',\n",
       " \"Parallel lines have so much in common and it's a shame that they'll never meet.\",\n",
       " 'Where did her dog hide the bone and why would it take it away?',\n",
       " \"I'm reading a book on anti-gravity that's impossible to put down.\",\n",
       " 'The scarecrow won an award because he was outstanding in his field.',\n",
       " 'Were John and Serena able to watch the fireworks last night?',\n",
       " \"I'm reading a book on anti-gravity that's impossible to put down.\",\n",
       " 'The chef received a prize because she was exceptional in the kitchen.',\n",
       " \"The bookshelf couldn't hold all the books because it was too small.\",\n",
       " 'Were John and Serena able to watch the fireworks last night?',\n",
       " 'Who all did Vikram call on the phone after the party last night?',\n",
       " \"Mortal enemies have very little in relation and it's scary that they'll always fight.\",\n",
       " 'She used to paint landscapes with a brush but now she uses a camera.',\n",
       " \"We're watching a movie on sociology that's challenging to understand.\",\n",
       " 'The scarecrow won an award because he was outstanding in his field.',\n",
       " 'How quickly did the lion cross the savannah?',\n",
       " 'Which citizens will lead the people to the promised land?',\n",
       " 'Where did her dog hide the bone and why would it take it away?',\n",
       " 'I used to play piano by ear but now I use my hands.',\n",
       " \"The bicycle couldn't stand up because it was two tired.\",\n",
       " \"Parallel lines have so much in common and it's a shame that they'll never meet.\"]"
      ]
     },
     "execution_count": 47,
     "metadata": {},
     "output_type": "execute_result"
    }
   ],
   "source": [
    "sentence_list"
   ]
  },
  {
   "cell_type": "code",
   "execution_count": 48,
   "metadata": {},
   "outputs": [],
   "source": [
    "# Mapping each sentence to a condition\n",
    "condition_dict = {sent:condition for sent, condition in zip(stimuli['sentence'], stimuli['pun_status'])}"
   ]
  },
  {
   "cell_type": "code",
   "execution_count": 49,
   "metadata": {},
   "outputs": [],
   "source": [
    "# ... and getting a condition for each sentence, in the correct order (yes I know this could be faster)\n",
    "condition_list = [condition_dict[sentence] for sentence in sentence_list]"
   ]
  },
  {
   "cell_type": "markdown",
   "metadata": {},
   "source": [
    "Let's put it all together!"
   ]
  },
  {
   "cell_type": "code",
   "execution_count": 50,
   "metadata": {},
   "outputs": [],
   "source": [
    "master_df = pd.DataFrame()\n",
    "master_df['Condition'] = condition_list\n",
    "master_df['NormalizedRTs'] = normalized_sentence_rts  "
   ]
  },
  {
   "cell_type": "code",
   "execution_count": 51,
   "metadata": {},
   "outputs": [
    {
     "data": {
      "text/html": [
       "<div>\n",
       "<style scoped>\n",
       "    .dataframe tbody tr th:only-of-type {\n",
       "        vertical-align: middle;\n",
       "    }\n",
       "\n",
       "    .dataframe tbody tr th {\n",
       "        vertical-align: top;\n",
       "    }\n",
       "\n",
       "    .dataframe thead th {\n",
       "        text-align: right;\n",
       "    }\n",
       "</style>\n",
       "<table border=\"1\" class=\"dataframe\">\n",
       "  <thead>\n",
       "    <tr style=\"text-align: right;\">\n",
       "      <th></th>\n",
       "      <th>Condition</th>\n",
       "      <th>NormalizedRTs</th>\n",
       "    </tr>\n",
       "  </thead>\n",
       "  <tbody>\n",
       "    <tr>\n",
       "      <th>0</th>\n",
       "      <td>no</td>\n",
       "      <td>313.583333</td>\n",
       "    </tr>\n",
       "    <tr>\n",
       "      <th>1</th>\n",
       "      <td>yes</td>\n",
       "      <td>366.454545</td>\n",
       "    </tr>\n",
       "    <tr>\n",
       "      <th>2</th>\n",
       "      <td>no</td>\n",
       "      <td>400.000000</td>\n",
       "    </tr>\n",
       "    <tr>\n",
       "      <th>3</th>\n",
       "      <td>yes</td>\n",
       "      <td>359.400000</td>\n",
       "    </tr>\n",
       "    <tr>\n",
       "      <th>4</th>\n",
       "      <td>filler</td>\n",
       "      <td>363.875000</td>\n",
       "    </tr>\n",
       "    <tr>\n",
       "      <th>...</th>\n",
       "      <td>...</td>\n",
       "      <td>...</td>\n",
       "    </tr>\n",
       "    <tr>\n",
       "      <th>250</th>\n",
       "      <td>filler</td>\n",
       "      <td>291.700000</td>\n",
       "    </tr>\n",
       "    <tr>\n",
       "      <th>251</th>\n",
       "      <td>filler</td>\n",
       "      <td>540.000000</td>\n",
       "    </tr>\n",
       "    <tr>\n",
       "      <th>252</th>\n",
       "      <td>yes</td>\n",
       "      <td>520.307692</td>\n",
       "    </tr>\n",
       "    <tr>\n",
       "      <th>253</th>\n",
       "      <td>yes</td>\n",
       "      <td>315.400000</td>\n",
       "    </tr>\n",
       "    <tr>\n",
       "      <th>254</th>\n",
       "      <td>yes</td>\n",
       "      <td>518.666667</td>\n",
       "    </tr>\n",
       "  </tbody>\n",
       "</table>\n",
       "<p>255 rows × 2 columns</p>\n",
       "</div>"
      ],
      "text/plain": [
       "    Condition  NormalizedRTs\n",
       "0          no     313.583333\n",
       "1         yes     366.454545\n",
       "2          no     400.000000\n",
       "3         yes     359.400000\n",
       "4      filler     363.875000\n",
       "..        ...            ...\n",
       "250    filler     291.700000\n",
       "251    filler     540.000000\n",
       "252       yes     520.307692\n",
       "253       yes     315.400000\n",
       "254       yes     518.666667\n",
       "\n",
       "[255 rows x 2 columns]"
      ]
     },
     "execution_count": 51,
     "metadata": {},
     "output_type": "execute_result"
    }
   ],
   "source": [
    "master_df"
   ]
  },
  {
   "cell_type": "code",
   "execution_count": 52,
   "metadata": {},
   "outputs": [],
   "source": [
    "# This is a lazy way of improving readability but I don't care LOL\n",
    "def fix_condition(string):\n",
    "    if string == 'filler':\n",
    "        return 'Filler'\n",
    "    elif string == 'no':\n",
    "        return 'Not Pun'\n",
    "    else:\n",
    "        return 'Pun'"
   ]
  },
  {
   "cell_type": "code",
   "execution_count": 53,
   "metadata": {},
   "outputs": [],
   "source": [
    "master_df['Condition'] = master_df['Condition'].apply(fix_condition)"
   ]
  },
  {
   "cell_type": "markdown",
   "metadata": {},
   "source": [
    "# 3: Choices\n",
    "\n",
    "Oh, and we have to check out our enjoyability scores! That should be pretty easy."
   ]
  },
  {
   "cell_type": "code",
   "execution_count": 54,
   "metadata": {},
   "outputs": [],
   "source": [
    "choices = [int(data['Value'].iloc[idx]) for idx in choice_idxs]"
   ]
  },
  {
   "cell_type": "code",
   "execution_count": 55,
   "metadata": {},
   "outputs": [],
   "source": [
    "master_df['Enjoyability'] = choices"
   ]
  },
  {
   "cell_type": "markdown",
   "metadata": {},
   "source": [
    "# 4: Graphing\n",
    "\n",
    "TIME FOR THE BIG REVEAL!"
   ]
  },
  {
   "cell_type": "code",
   "execution_count": 56,
   "metadata": {},
   "outputs": [
    {
     "data": {
      "text/plain": [
       "[Text(0.5, 1.0, 'Reading Time by Condition')]"
      ]
     },
     "execution_count": 56,
     "metadata": {},
     "output_type": "execute_result"
    },
    {
     "data": {
      "image/png": "[encoded data removed]",
      "text/plain": [
       "<Figure size 640x480 with 1 Axes>"
      ]
     },
     "metadata": {},
     "output_type": "display_data"
    }
   ],
   "source": [
    "# Reading Times\n",
    "sns.barplot(master_df, x=\"Condition\", y=\"NormalizedRTs\").set(title='Reading Time by Condition')"
   ]
  },
  {
   "cell_type": "code",
   "execution_count": 57,
   "metadata": {},
   "outputs": [
    {
     "data": {
      "text/plain": [
       "[Text(0.5, 1.0, 'Enjoyability by Condition')]"
      ]
     },
     "execution_count": 57,
     "metadata": {},
     "output_type": "execute_result"
    },
    {
     "data": {
      "image/png": "[encoded data removed]",
      "text/plain": [
       "<Figure size 640x480 with 1 Axes>"
      ]
     },
     "metadata": {},
     "output_type": "display_data"
    }
   ],
   "source": [
    "# Enjoyability\n",
    "sns.barplot(master_df, x=\"Condition\", y=\"Enjoyability\").set(title='Enjoyability by Condition')"
   ]
  },
  {
   "cell_type": "markdown",
   "metadata": {},
   "source": [
    "How related are enjoyability ratings and reading times? Do longer reading times equate to higher enjoyability ratings ( positive correlation)? Do longer reading times equate to lower enjoyability ratings (negative correlation)? Or, is there no correlation at all? We can check with a visual:"
   ]
  },
  {
   "cell_type": "code",
   "execution_count": 58,
   "metadata": {},
   "outputs": [
    {
     "data": {
      "text/plain": [
       "<matplotlib.legend.Legend at 0x19d77763dc0>"
      ]
     },
     "execution_count": 58,
     "metadata": {},
     "output_type": "execute_result"
    },
    {
     "data": {
      "image/png": "[encoded data removed]",
      "text/plain": [
       "<Figure size 640x480 with 1 Axes>"
      ]
     },
     "metadata": {},
     "output_type": "display_data"
    }
   ],
   "source": [
    "sns.scatterplot(data=master_df, x=\"NormalizedRTs\", y=\"Enjoyability\", hue=\"Condition\").set(title=\"Bad Correlation Graph between Reading Times and Enjoyability Ratings\")\n",
    "plt.legend(bbox_to_anchor=(1.25, 1), borderaxespad=0)"
   ]
  },
  {
   "cell_type": "markdown",
   "metadata": {},
   "source": [
    "... and also some code:"
   ]
  },
  {
   "cell_type": "code",
   "execution_count": 59,
   "metadata": {},
   "outputs": [
    {
     "data": {
      "text/plain": [
       "0.01730405289183639"
      ]
     },
     "execution_count": 59,
     "metadata": {},
     "output_type": "execute_result"
    }
   ],
   "source": [
    "# Checking correlations between RTs and Enjoyability (CLoser to 1 ~ More correlated)\n",
    "master_df['NormalizedRTs'].corr(master_df['Enjoyability'])"
   ]
  },
  {
   "cell_type": "code",
   "execution_count": null,
   "metadata": {},
   "outputs": [],
   "source": []
  }
 ],
 "metadata": {
  "kernelspec": {
   "display_name": "verbs",
   "language": "python",
   "name": "python3"
  },
  "language_info": {
   "codemirror_mode": {
    "name": "ipython",
    "version": 3
   },
   "file_extension": ".py",
   "mimetype": "text/x-python",
   "name": "python",
   "nbconvert_exporter": "python",
   "pygments_lexer": "ipython3",
   "version": "3.10.12"
  }
 },
 "nbformat": 4,
 "nbformat_minor": 2
}
