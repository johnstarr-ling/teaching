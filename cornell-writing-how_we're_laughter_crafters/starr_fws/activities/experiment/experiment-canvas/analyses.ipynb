{
 "cells": [
  {
   "cell_type": "code",
   "execution_count": 31,
   "metadata": {},
   "outputs": [],
   "source": [
    "import numpy as np\n",
    "import pandas as pd\n",
    "import seaborn as sns\n",
    "import matplotlib.pyplot as plt\n",
    "import re"
   ]
  },
  {
   "cell_type": "markdown",
   "metadata": {},
   "source": [
    "We will see how our experiment turned out! Will we replicate the previous finding, where puns took longer to read but were found more enjoyable to read? \n",
    "\n",
    "**DRUM ROLL HERE**"
   ]
  },
  {
   "cell_type": "markdown",
   "metadata": {},
   "source": [
    "# 1: Loading Data & Other Basic Things"
   ]
  },
  {
   "cell_type": "code",
   "execution_count": 2,
   "metadata": {},
   "outputs": [],
   "source": [
    "# Loading in our stimuli\n",
    "stimuli = pd.read_csv('stimuli.csv')"
   ]
  },
  {
   "cell_type": "code",
   "execution_count": 3,
   "metadata": {},
   "outputs": [
    {
     "data": {
      "text/html": [
       "<div>\n",
       "<style scoped>\n",
       "    .dataframe tbody tr th:only-of-type {\n",
       "        vertical-align: middle;\n",
       "    }\n",
       "\n",
       "    .dataframe tbody tr th {\n",
       "        vertical-align: top;\n",
       "    }\n",
       "\n",
       "    .dataframe thead th {\n",
       "        text-align: right;\n",
       "    }\n",
       "</style>\n",
       "<table border=\"1\" class=\"dataframe\">\n",
       "  <thead>\n",
       "    <tr style=\"text-align: right;\">\n",
       "      <th></th>\n",
       "      <th>item</th>\n",
       "      <th>sentence</th>\n",
       "      <th>pun_status</th>\n",
       "    </tr>\n",
       "  </thead>\n",
       "  <tbody>\n",
       "    <tr>\n",
       "      <th>0</th>\n",
       "      <td>p1</td>\n",
       "      <td>I used to play piano by ear but now I use my h...</td>\n",
       "      <td>yes</td>\n",
       "    </tr>\n",
       "    <tr>\n",
       "      <th>1</th>\n",
       "      <td>p2</td>\n",
       "      <td>The bicycle couldn't stand up because it was t...</td>\n",
       "      <td>yes</td>\n",
       "    </tr>\n",
       "    <tr>\n",
       "      <th>2</th>\n",
       "      <td>p3</td>\n",
       "      <td>I'm reading a book on anti-gravity that's impo...</td>\n",
       "      <td>yes</td>\n",
       "    </tr>\n",
       "    <tr>\n",
       "      <th>3</th>\n",
       "      <td>p4</td>\n",
       "      <td>The scarecrow won an award because he was outs...</td>\n",
       "      <td>yes</td>\n",
       "    </tr>\n",
       "    <tr>\n",
       "      <th>4</th>\n",
       "      <td>p5</td>\n",
       "      <td>Parallel lines have so much in common and it's...</td>\n",
       "      <td>yes</td>\n",
       "    </tr>\n",
       "    <tr>\n",
       "      <th>5</th>\n",
       "      <td>np1</td>\n",
       "      <td>She used to paint landscapes with a brush but ...</td>\n",
       "      <td>no</td>\n",
       "    </tr>\n",
       "    <tr>\n",
       "      <th>6</th>\n",
       "      <td>np2</td>\n",
       "      <td>The bookshelf couldn't hold all the books beca...</td>\n",
       "      <td>no</td>\n",
       "    </tr>\n",
       "    <tr>\n",
       "      <th>7</th>\n",
       "      <td>np3</td>\n",
       "      <td>We're watching a movie on sociology that's cha...</td>\n",
       "      <td>no</td>\n",
       "    </tr>\n",
       "    <tr>\n",
       "      <th>8</th>\n",
       "      <td>np4</td>\n",
       "      <td>The chef received a prize because she was exce...</td>\n",
       "      <td>no</td>\n",
       "    </tr>\n",
       "    <tr>\n",
       "      <th>9</th>\n",
       "      <td>np5</td>\n",
       "      <td>Mortal enemies have very little in relation an...</td>\n",
       "      <td>no</td>\n",
       "    </tr>\n",
       "    <tr>\n",
       "      <th>10</th>\n",
       "      <td>filler1</td>\n",
       "      <td>Were John and Serena able to watch the firewor...</td>\n",
       "      <td>filler</td>\n",
       "    </tr>\n",
       "    <tr>\n",
       "      <th>11</th>\n",
       "      <td>filler2</td>\n",
       "      <td>How quickly did the lion cross the savannah?</td>\n",
       "      <td>filler</td>\n",
       "    </tr>\n",
       "    <tr>\n",
       "      <th>12</th>\n",
       "      <td>filler3</td>\n",
       "      <td>Where did her dog hide the bone and why would ...</td>\n",
       "      <td>filler</td>\n",
       "    </tr>\n",
       "    <tr>\n",
       "      <th>13</th>\n",
       "      <td>filler4</td>\n",
       "      <td>Which citizens will lead the people to the pro...</td>\n",
       "      <td>filler</td>\n",
       "    </tr>\n",
       "    <tr>\n",
       "      <th>14</th>\n",
       "      <td>filler5</td>\n",
       "      <td>Who all did Vikram call on the phone after the...</td>\n",
       "      <td>filler</td>\n",
       "    </tr>\n",
       "  </tbody>\n",
       "</table>\n",
       "</div>"
      ],
      "text/plain": [
       "       item                                           sentence pun_status\n",
       "0        p1  I used to play piano by ear but now I use my h...        yes\n",
       "1        p2  The bicycle couldn't stand up because it was t...        yes\n",
       "2        p3  I'm reading a book on anti-gravity that's impo...        yes\n",
       "3        p4  The scarecrow won an award because he was outs...        yes\n",
       "4        p5  Parallel lines have so much in common and it's...        yes\n",
       "5       np1  She used to paint landscapes with a brush but ...         no\n",
       "6       np2  The bookshelf couldn't hold all the books beca...         no\n",
       "7       np3  We're watching a movie on sociology that's cha...         no\n",
       "8       np4  The chef received a prize because she was exce...         no\n",
       "9       np5  Mortal enemies have very little in relation an...         no\n",
       "10  filler1  Were John and Serena able to watch the firewor...     filler\n",
       "11  filler2       How quickly did the lion cross the savannah?     filler\n",
       "12  filler3  Where did her dog hide the bone and why would ...     filler\n",
       "13  filler4  Which citizens will lead the people to the pro...     filler\n",
       "14  filler5  Who all did Vikram call on the phone after the...     filler"
      ]
     },
     "execution_count": 3,
     "metadata": {},
     "output_type": "execute_result"
    }
   ],
   "source": [
    "# Taking a little look at our stimuli\n",
    "stimuli.head(15)"
   ]
  },
  {
   "cell_type": "code",
   "execution_count": 4,
   "metadata": {},
   "outputs": [],
   "source": [
    "# Loading in our data; won't show this because it's ugly right now\n",
    "data = pd.read_csv('OUTPUT.csv')"
   ]
  },
  {
   "cell_type": "code",
   "execution_count": 5,
   "metadata": {},
   "outputs": [],
   "source": [
    "# Keeping only experimental trials:\n",
    "data = data[data['Label'] == 'experimental-trials']"
   ]
  },
  {
   "cell_type": "code",
   "execution_count": 6,
   "metadata": {},
   "outputs": [],
   "source": [
    "# Deleting unnecessary columns and reset index:\n",
    "data = data.drop(columns=['Unnamed: 0', 'Results.reception.time', 'Inner.element.number', 'Controller.name',\n",
    "                   'Latin.Square.Group', 'Newline.', 'Comments']).reset_index()"
   ]
  },
  {
   "cell_type": "code",
   "execution_count": 7,
   "metadata": {},
   "outputs": [
    {
     "data": {
      "text/html": [
       "<div>\n",
       "<style scoped>\n",
       "    .dataframe tbody tr th:only-of-type {\n",
       "        vertical-align: middle;\n",
       "    }\n",
       "\n",
       "    .dataframe tbody tr th {\n",
       "        vertical-align: top;\n",
       "    }\n",
       "\n",
       "    .dataframe thead th {\n",
       "        text-align: right;\n",
       "    }\n",
       "</style>\n",
       "<table border=\"1\" class=\"dataframe\">\n",
       "  <thead>\n",
       "    <tr style=\"text-align: right;\">\n",
       "      <th></th>\n",
       "      <th>index</th>\n",
       "      <th>MD5.hash.of.participant.s.IP.address</th>\n",
       "      <th>Order.number.of.item</th>\n",
       "      <th>Label</th>\n",
       "      <th>PennElementType</th>\n",
       "      <th>PennElementName</th>\n",
       "      <th>Parameter</th>\n",
       "      <th>Value</th>\n",
       "      <th>EventTime</th>\n",
       "      <th>Reading.time</th>\n",
       "      <th>Sentence..or.sentence.MD5.</th>\n",
       "    </tr>\n",
       "  </thead>\n",
       "  <tbody>\n",
       "    <tr>\n",
       "      <th>0</th>\n",
       "      <td>31</td>\n",
       "      <td>36f149ea6ad3f54ae438d2eb22f66849</td>\n",
       "      <td>16</td>\n",
       "      <td>experimental-trials</td>\n",
       "      <td>PennController</td>\n",
       "      <td>16</td>\n",
       "      <td>_Trial_</td>\n",
       "      <td>Start</td>\n",
       "      <td>1698281093450</td>\n",
       "      <td>NaN</td>\n",
       "      <td>NaN</td>\n",
       "    </tr>\n",
       "    <tr>\n",
       "      <th>1</th>\n",
       "      <td>32</td>\n",
       "      <td>36f149ea6ad3f54ae438d2eb22f66849</td>\n",
       "      <td>16</td>\n",
       "      <td>experimental-trials</td>\n",
       "      <td>Controller-DashedSentence</td>\n",
       "      <td>DashedSentence</td>\n",
       "      <td>1</td>\n",
       "      <td>Were</td>\n",
       "      <td>1698281095680</td>\n",
       "      <td>251.0</td>\n",
       "      <td>Were John and Serena able to watch the firewor...</td>\n",
       "    </tr>\n",
       "    <tr>\n",
       "      <th>2</th>\n",
       "      <td>33</td>\n",
       "      <td>36f149ea6ad3f54ae438d2eb22f66849</td>\n",
       "      <td>16</td>\n",
       "      <td>experimental-trials</td>\n",
       "      <td>Controller-DashedSentence</td>\n",
       "      <td>DashedSentence</td>\n",
       "      <td>2</td>\n",
       "      <td>John</td>\n",
       "      <td>1698281095680</td>\n",
       "      <td>212.0</td>\n",
       "      <td>Were John and Serena able to watch the firewor...</td>\n",
       "    </tr>\n",
       "    <tr>\n",
       "      <th>3</th>\n",
       "      <td>34</td>\n",
       "      <td>36f149ea6ad3f54ae438d2eb22f66849</td>\n",
       "      <td>16</td>\n",
       "      <td>experimental-trials</td>\n",
       "      <td>Controller-DashedSentence</td>\n",
       "      <td>DashedSentence</td>\n",
       "      <td>3</td>\n",
       "      <td>and</td>\n",
       "      <td>1698281095680</td>\n",
       "      <td>241.0</td>\n",
       "      <td>Were John and Serena able to watch the firewor...</td>\n",
       "    </tr>\n",
       "    <tr>\n",
       "      <th>4</th>\n",
       "      <td>35</td>\n",
       "      <td>36f149ea6ad3f54ae438d2eb22f66849</td>\n",
       "      <td>16</td>\n",
       "      <td>experimental-trials</td>\n",
       "      <td>Controller-DashedSentence</td>\n",
       "      <td>DashedSentence</td>\n",
       "      <td>4</td>\n",
       "      <td>Serena</td>\n",
       "      <td>1698281095680</td>\n",
       "      <td>183.0</td>\n",
       "      <td>Were John and Serena able to watch the firewor...</td>\n",
       "    </tr>\n",
       "  </tbody>\n",
       "</table>\n",
       "</div>"
      ],
      "text/plain": [
       "   index MD5.hash.of.participant.s.IP.address  Order.number.of.item  \\\n",
       "0     31     36f149ea6ad3f54ae438d2eb22f66849                    16   \n",
       "1     32     36f149ea6ad3f54ae438d2eb22f66849                    16   \n",
       "2     33     36f149ea6ad3f54ae438d2eb22f66849                    16   \n",
       "3     34     36f149ea6ad3f54ae438d2eb22f66849                    16   \n",
       "4     35     36f149ea6ad3f54ae438d2eb22f66849                    16   \n",
       "\n",
       "                 Label            PennElementType PennElementName Parameter  \\\n",
       "0  experimental-trials             PennController              16   _Trial_   \n",
       "1  experimental-trials  Controller-DashedSentence  DashedSentence         1   \n",
       "2  experimental-trials  Controller-DashedSentence  DashedSentence         2   \n",
       "3  experimental-trials  Controller-DashedSentence  DashedSentence         3   \n",
       "4  experimental-trials  Controller-DashedSentence  DashedSentence         4   \n",
       "\n",
       "    Value      EventTime  Reading.time  \\\n",
       "0   Start  1698281093450           NaN   \n",
       "1    Were  1698281095680         251.0   \n",
       "2    John  1698281095680         212.0   \n",
       "3     and  1698281095680         241.0   \n",
       "4  Serena  1698281095680         183.0   \n",
       "\n",
       "                          Sentence..or.sentence.MD5.  \n",
       "0                                                NaN  \n",
       "1  Were John and Serena able to watch the firewor...  \n",
       "2  Were John and Serena able to watch the firewor...  \n",
       "3  Were John and Serena able to watch the firewor...  \n",
       "4  Were John and Serena able to watch the firewor...  "
      ]
     },
     "execution_count": 7,
     "metadata": {},
     "output_type": "execute_result"
    }
   ],
   "source": [
    "# Looking at our data\n",
    "data.head()"
   ]
  },
  {
   "cell_type": "code",
   "execution_count": 8,
   "metadata": {},
   "outputs": [],
   "source": [
    "# Finding necessary values\n",
    "start_idxs = data.index[data['Value'] == 'Start']\n",
    "rt_idxs = [x+1 for x in start_idxs]\n",
    "choice_idxs = data.index[data['Parameter'] == 'Choice']"
   ]
  },
  {
   "cell_type": "markdown",
   "metadata": {},
   "source": [
    "How many participants do we have?"
   ]
  },
  {
   "cell_type": "code",
   "execution_count": 9,
   "metadata": {},
   "outputs": [
    {
     "data": {
      "text/plain": [
       "1"
      ]
     },
     "execution_count": 9,
     "metadata": {},
     "output_type": "execute_result"
    }
   ],
   "source": [
    "# Calculating our N (number of participants):\n",
    "len(set(data['MD5.hash.of.participant.s.IP.address']))"
   ]
  },
  {
   "cell_type": "markdown",
   "metadata": {},
   "source": [
    "# 2: Extracting RTs for Each Sentence\n",
    "\n",
    "We are finally ready to extract the RTs for each sentence!"
   ]
  },
  {
   "cell_type": "code",
   "execution_count": 10,
   "metadata": {},
   "outputs": [],
   "source": [
    "# Slicing times with a heinous list comp (calculating difference between start time and logged time)\n",
    "sentence_rts = np.array(list(data['EventTime'].iloc[rt_idx]-data['EventTime'].iloc[start_idx] for rt_idx, start_idx in zip(rt_idxs, start_idxs)))"
   ]
  },
  {
   "cell_type": "code",
   "execution_count": 11,
   "metadata": {},
   "outputs": [
    {
     "data": {
      "text/plain": [
       "array([2230, 1851, 1780, 4809, 2982], dtype=int64)"
      ]
     },
     "execution_count": 11,
     "metadata": {},
     "output_type": "execute_result"
    }
   ],
   "source": [
    "# What do our RTs look like?\n",
    "sentence_rts[:5]"
   ]
  },
  {
   "cell_type": "markdown",
   "metadata": {},
   "source": [
    "But, this isn't enough! Our sentences have different lengths (a factor that we could have controlled for, but I was too lazy to do). As such, longer sentences will naturally have longer reading times. We will normalize by sentence length (not character length), thus assuming that the relationship between reading times and word length is linear; this is, in practice, not correct (it's usually logarithmic), but I want to keep our RTs interpretable. "
   ]
  },
  {
   "cell_type": "code",
   "execution_count": 12,
   "metadata": {},
   "outputs": [],
   "source": [
    "# Getting sentence length with another, less heinous list comp\n",
    "sentence_lens = np.array(list(len(data['Sentence..or.sentence.MD5.'].iloc[rt_idx].split()) for rt_idx in rt_idxs))"
   ]
  },
  {
   "cell_type": "code",
   "execution_count": 13,
   "metadata": {},
   "outputs": [],
   "source": [
    "# Dividing sentence RTs by sentence length to get the average RT per sentence (assuming RTs are linear):\n",
    "normalized_sentence_rts = sentence_rts/sentence_lens"
   ]
  },
  {
   "cell_type": "code",
   "execution_count": 14,
   "metadata": {},
   "outputs": [
    {
     "data": {
      "text/plain": [
       "array([202.72727273, 132.21428571, 178.        , 320.6       ,\n",
       "       213.        , 476.41666667, 619.15384615, 293.75      ,\n",
       "       416.72727273, 262.8       , 126.35714286, 148.92307692,\n",
       "       198.        , 162.25      , 116.9       ])"
      ]
     },
     "execution_count": 14,
     "metadata": {},
     "output_type": "execute_result"
    }
   ],
   "source": [
    "# What do our normalized sentence_rts look like?\n",
    "normalized_sentence_rts"
   ]
  },
  {
   "cell_type": "markdown",
   "metadata": {},
   "source": [
    "Now, we need to line these RTs up with our conditions...!"
   ]
  },
  {
   "cell_type": "code",
   "execution_count": 15,
   "metadata": {},
   "outputs": [
    {
     "data": {
      "text/html": [
       "<div>\n",
       "<style scoped>\n",
       "    .dataframe tbody tr th:only-of-type {\n",
       "        vertical-align: middle;\n",
       "    }\n",
       "\n",
       "    .dataframe tbody tr th {\n",
       "        vertical-align: top;\n",
       "    }\n",
       "\n",
       "    .dataframe thead th {\n",
       "        text-align: right;\n",
       "    }\n",
       "</style>\n",
       "<table border=\"1\" class=\"dataframe\">\n",
       "  <thead>\n",
       "    <tr style=\"text-align: right;\">\n",
       "      <th></th>\n",
       "      <th>item</th>\n",
       "      <th>sentence</th>\n",
       "      <th>pun_status</th>\n",
       "    </tr>\n",
       "  </thead>\n",
       "  <tbody>\n",
       "    <tr>\n",
       "      <th>0</th>\n",
       "      <td>p1</td>\n",
       "      <td>I used to play piano by ear but now I use my h...</td>\n",
       "      <td>yes</td>\n",
       "    </tr>\n",
       "    <tr>\n",
       "      <th>1</th>\n",
       "      <td>p2</td>\n",
       "      <td>The bicycle couldn't stand up because it was t...</td>\n",
       "      <td>yes</td>\n",
       "    </tr>\n",
       "    <tr>\n",
       "      <th>2</th>\n",
       "      <td>p3</td>\n",
       "      <td>I'm reading a book on anti-gravity that's impo...</td>\n",
       "      <td>yes</td>\n",
       "    </tr>\n",
       "    <tr>\n",
       "      <th>3</th>\n",
       "      <td>p4</td>\n",
       "      <td>The scarecrow won an award because he was outs...</td>\n",
       "      <td>yes</td>\n",
       "    </tr>\n",
       "    <tr>\n",
       "      <th>4</th>\n",
       "      <td>p5</td>\n",
       "      <td>Parallel lines have so much in common and it's...</td>\n",
       "      <td>yes</td>\n",
       "    </tr>\n",
       "    <tr>\n",
       "      <th>5</th>\n",
       "      <td>np1</td>\n",
       "      <td>She used to paint landscapes with a brush but ...</td>\n",
       "      <td>no</td>\n",
       "    </tr>\n",
       "    <tr>\n",
       "      <th>6</th>\n",
       "      <td>np2</td>\n",
       "      <td>The bookshelf couldn't hold all the books beca...</td>\n",
       "      <td>no</td>\n",
       "    </tr>\n",
       "    <tr>\n",
       "      <th>7</th>\n",
       "      <td>np3</td>\n",
       "      <td>We're watching a movie on sociology that's cha...</td>\n",
       "      <td>no</td>\n",
       "    </tr>\n",
       "    <tr>\n",
       "      <th>8</th>\n",
       "      <td>np4</td>\n",
       "      <td>The chef received a prize because she was exce...</td>\n",
       "      <td>no</td>\n",
       "    </tr>\n",
       "    <tr>\n",
       "      <th>9</th>\n",
       "      <td>np5</td>\n",
       "      <td>Mortal enemies have very little in relation an...</td>\n",
       "      <td>no</td>\n",
       "    </tr>\n",
       "    <tr>\n",
       "      <th>10</th>\n",
       "      <td>filler1</td>\n",
       "      <td>Were John and Serena able to watch the firewor...</td>\n",
       "      <td>filler</td>\n",
       "    </tr>\n",
       "    <tr>\n",
       "      <th>11</th>\n",
       "      <td>filler2</td>\n",
       "      <td>How quickly did the lion cross the savannah?</td>\n",
       "      <td>filler</td>\n",
       "    </tr>\n",
       "    <tr>\n",
       "      <th>12</th>\n",
       "      <td>filler3</td>\n",
       "      <td>Where did her dog hide the bone and why would ...</td>\n",
       "      <td>filler</td>\n",
       "    </tr>\n",
       "    <tr>\n",
       "      <th>13</th>\n",
       "      <td>filler4</td>\n",
       "      <td>Which citizens will lead the people to the pro...</td>\n",
       "      <td>filler</td>\n",
       "    </tr>\n",
       "    <tr>\n",
       "      <th>14</th>\n",
       "      <td>filler5</td>\n",
       "      <td>Who all did Vikram call on the phone after the...</td>\n",
       "      <td>filler</td>\n",
       "    </tr>\n",
       "  </tbody>\n",
       "</table>\n",
       "</div>"
      ],
      "text/plain": [
       "       item                                           sentence pun_status\n",
       "0        p1  I used to play piano by ear but now I use my h...        yes\n",
       "1        p2  The bicycle couldn't stand up because it was t...        yes\n",
       "2        p3  I'm reading a book on anti-gravity that's impo...        yes\n",
       "3        p4  The scarecrow won an award because he was outs...        yes\n",
       "4        p5  Parallel lines have so much in common and it's...        yes\n",
       "5       np1  She used to paint landscapes with a brush but ...         no\n",
       "6       np2  The bookshelf couldn't hold all the books beca...         no\n",
       "7       np3  We're watching a movie on sociology that's cha...         no\n",
       "8       np4  The chef received a prize because she was exce...         no\n",
       "9       np5  Mortal enemies have very little in relation an...         no\n",
       "10  filler1  Were John and Serena able to watch the firewor...     filler\n",
       "11  filler2       How quickly did the lion cross the savannah?     filler\n",
       "12  filler3  Where did her dog hide the bone and why would ...     filler\n",
       "13  filler4  Which citizens will lead the people to the pro...     filler\n",
       "14  filler5  Who all did Vikram call on the phone after the...     filler"
      ]
     },
     "execution_count": 15,
     "metadata": {},
     "output_type": "execute_result"
    }
   ],
   "source": [
    "stimuli"
   ]
  },
  {
   "cell_type": "code",
   "execution_count": 16,
   "metadata": {},
   "outputs": [],
   "source": [
    "# Getting sentences:\n",
    "sentence_list = [data['Sentence..or.sentence.MD5.'].iloc[idx] for idx in rt_idxs]"
   ]
  },
  {
   "cell_type": "code",
   "execution_count": 17,
   "metadata": {},
   "outputs": [
    {
     "data": {
      "text/plain": [
       "['Were John and Serena able to watch the fireworks last night?',\n",
       " \"Mortal enemies have very little in relation and it's scary that they'll always fight.\",\n",
       " 'Which citizens will lead the people to the promised land?',\n",
       " \"Parallel lines have so much in common and it's a shame that they'll never meet.\",\n",
       " 'She used to paint landscapes with a brush but now she uses a camera.',\n",
       " 'The scarecrow won an award because he was outstanding in his field.',\n",
       " 'I used to play piano by ear but now I use my hands.',\n",
       " 'How quickly did the lion cross the savannah?',\n",
       " \"I'm reading a book on anti-gravity that's impossible to put down.\",\n",
       " \"We're watching a movie on sociology that's challenging to understand.\",\n",
       " 'Where did her dog hide the bone and why would it take it away?',\n",
       " 'Who all did Vikram call on the phone after the party last night?',\n",
       " 'The chef received a prize because she was exceptional in the kitchen.',\n",
       " \"The bookshelf couldn't hold all the books because it was too small.\",\n",
       " \"The bicycle couldn't stand up because it was two tired.\"]"
      ]
     },
     "execution_count": 17,
     "metadata": {},
     "output_type": "execute_result"
    }
   ],
   "source": [
    "sentence_list"
   ]
  },
  {
   "cell_type": "code",
   "execution_count": 18,
   "metadata": {},
   "outputs": [],
   "source": [
    "# Mapping each sentence to a condition\n",
    "condition_dict = {sent:condition for sent, condition in zip(stimuli['sentence'], stimuli['pun_status'])}"
   ]
  },
  {
   "cell_type": "code",
   "execution_count": 19,
   "metadata": {},
   "outputs": [],
   "source": [
    "# ... and getting a condition for each sentence, in the correct order (yes I know this could be faster)\n",
    "condition_list = [condition_dict[sentence] for sentence in sentence_list]"
   ]
  },
  {
   "cell_type": "markdown",
   "metadata": {},
   "source": [
    "Let's put it all together!"
   ]
  },
  {
   "cell_type": "code",
   "execution_count": 20,
   "metadata": {},
   "outputs": [],
   "source": [
    "master_df = pd.DataFrame()\n",
    "master_df['Condition'] = condition_list\n",
    "master_df['NormalizedRTs'] = normalized_sentence_rts  "
   ]
  },
  {
   "cell_type": "code",
   "execution_count": 21,
   "metadata": {},
   "outputs": [
    {
     "data": {
      "text/html": [
       "<div>\n",
       "<style scoped>\n",
       "    .dataframe tbody tr th:only-of-type {\n",
       "        vertical-align: middle;\n",
       "    }\n",
       "\n",
       "    .dataframe tbody tr th {\n",
       "        vertical-align: top;\n",
       "    }\n",
       "\n",
       "    .dataframe thead th {\n",
       "        text-align: right;\n",
       "    }\n",
       "</style>\n",
       "<table border=\"1\" class=\"dataframe\">\n",
       "  <thead>\n",
       "    <tr style=\"text-align: right;\">\n",
       "      <th></th>\n",
       "      <th>Condition</th>\n",
       "      <th>NormalizedRTs</th>\n",
       "    </tr>\n",
       "  </thead>\n",
       "  <tbody>\n",
       "    <tr>\n",
       "      <th>0</th>\n",
       "      <td>filler</td>\n",
       "      <td>202.727273</td>\n",
       "    </tr>\n",
       "    <tr>\n",
       "      <th>1</th>\n",
       "      <td>no</td>\n",
       "      <td>132.214286</td>\n",
       "    </tr>\n",
       "    <tr>\n",
       "      <th>2</th>\n",
       "      <td>filler</td>\n",
       "      <td>178.000000</td>\n",
       "    </tr>\n",
       "    <tr>\n",
       "      <th>3</th>\n",
       "      <td>yes</td>\n",
       "      <td>320.600000</td>\n",
       "    </tr>\n",
       "    <tr>\n",
       "      <th>4</th>\n",
       "      <td>no</td>\n",
       "      <td>213.000000</td>\n",
       "    </tr>\n",
       "    <tr>\n",
       "      <th>5</th>\n",
       "      <td>yes</td>\n",
       "      <td>476.416667</td>\n",
       "    </tr>\n",
       "    <tr>\n",
       "      <th>6</th>\n",
       "      <td>yes</td>\n",
       "      <td>619.153846</td>\n",
       "    </tr>\n",
       "    <tr>\n",
       "      <th>7</th>\n",
       "      <td>filler</td>\n",
       "      <td>293.750000</td>\n",
       "    </tr>\n",
       "    <tr>\n",
       "      <th>8</th>\n",
       "      <td>yes</td>\n",
       "      <td>416.727273</td>\n",
       "    </tr>\n",
       "    <tr>\n",
       "      <th>9</th>\n",
       "      <td>no</td>\n",
       "      <td>262.800000</td>\n",
       "    </tr>\n",
       "    <tr>\n",
       "      <th>10</th>\n",
       "      <td>filler</td>\n",
       "      <td>126.357143</td>\n",
       "    </tr>\n",
       "    <tr>\n",
       "      <th>11</th>\n",
       "      <td>filler</td>\n",
       "      <td>148.923077</td>\n",
       "    </tr>\n",
       "    <tr>\n",
       "      <th>12</th>\n",
       "      <td>no</td>\n",
       "      <td>198.000000</td>\n",
       "    </tr>\n",
       "    <tr>\n",
       "      <th>13</th>\n",
       "      <td>no</td>\n",
       "      <td>162.250000</td>\n",
       "    </tr>\n",
       "    <tr>\n",
       "      <th>14</th>\n",
       "      <td>yes</td>\n",
       "      <td>116.900000</td>\n",
       "    </tr>\n",
       "  </tbody>\n",
       "</table>\n",
       "</div>"
      ],
      "text/plain": [
       "   Condition  NormalizedRTs\n",
       "0     filler     202.727273\n",
       "1         no     132.214286\n",
       "2     filler     178.000000\n",
       "3        yes     320.600000\n",
       "4         no     213.000000\n",
       "5        yes     476.416667\n",
       "6        yes     619.153846\n",
       "7     filler     293.750000\n",
       "8        yes     416.727273\n",
       "9         no     262.800000\n",
       "10    filler     126.357143\n",
       "11    filler     148.923077\n",
       "12        no     198.000000\n",
       "13        no     162.250000\n",
       "14       yes     116.900000"
      ]
     },
     "execution_count": 21,
     "metadata": {},
     "output_type": "execute_result"
    }
   ],
   "source": [
    "master_df"
   ]
  },
  {
   "cell_type": "code",
   "execution_count": 22,
   "metadata": {},
   "outputs": [],
   "source": [
    "# This is a lazy way of improving readability but I don't care LOL\n",
    "def fix_condition(string):\n",
    "    if string == 'filler':\n",
    "        return 'Filler'\n",
    "    elif string == 'no':\n",
    "        return 'Not Pun'\n",
    "    else:\n",
    "        return 'Pun'"
   ]
  },
  {
   "cell_type": "code",
   "execution_count": 23,
   "metadata": {},
   "outputs": [],
   "source": [
    "master_df['Condition'] = master_df['Condition'].apply(fix_condition)"
   ]
  },
  {
   "cell_type": "markdown",
   "metadata": {},
   "source": [
    "# 3: Choices\n",
    "\n",
    "Oh, and we have to check out our enjoyability scores! That should be pretty easy."
   ]
  },
  {
   "cell_type": "code",
   "execution_count": 24,
   "metadata": {},
   "outputs": [],
   "source": [
    "choices = [int(data['Value'].iloc[idx]) for idx in choice_idxs]"
   ]
  },
  {
   "cell_type": "code",
   "execution_count": 25,
   "metadata": {},
   "outputs": [],
   "source": [
    "master_df['Enjoyability'] = choices"
   ]
  },
  {
   "cell_type": "markdown",
   "metadata": {},
   "source": [
    "# 4: Graphing\n",
    "\n",
    "TIME FOR THE BIG REVEAL!"
   ]
  },
  {
   "cell_type": "code",
   "execution_count": 26,
   "metadata": {},
   "outputs": [
    {
     "data": {
      "text/plain": [
       "[Text(0.5, 1.0, 'Reading Time by Condition')]"
      ]
     },
     "execution_count": 26,
     "metadata": {},
     "output_type": "execute_result"
    },
    {
     "data": {
      "image/png": "[encoded data removed]",
      "text/plain": [
       "<Figure size 640x480 with 1 Axes>"
      ]
     },
     "metadata": {},
     "output_type": "display_data"
    }
   ],
   "source": [
    "# Reading Times\n",
    "sns.barplot(master_df, x=\"Condition\", y=\"NormalizedRTs\").set(title='Reading Time by Condition')"
   ]
  },
  {
   "cell_type": "code",
   "execution_count": 27,
   "metadata": {},
   "outputs": [
    {
     "data": {
      "text/plain": [
       "[Text(0.5, 1.0, 'Enjoyability by Condition')]"
      ]
     },
     "execution_count": 27,
     "metadata": {},
     "output_type": "execute_result"
    },
    {
     "data": {
      "image/png": "[encoded data removed]",
      "text/plain": [
       "<Figure size 640x480 with 1 Axes>"
      ]
     },
     "metadata": {},
     "output_type": "display_data"
    }
   ],
   "source": [
    "# Enjoyability\n",
    "sns.barplot(master_df, x=\"Condition\", y=\"Enjoyability\").set(title='Enjoyability by Condition')"
   ]
  },
  {
   "cell_type": "markdown",
   "metadata": {},
   "source": [
    "How related are enjoyability ratings and reading times? Do longer reading times equate to higher enjoyability ratings ( positive correlation)? Do longer reading times equate to lower enjoyability ratings (negative correlation)? Or, is there no correlation at all? We can check with a visual:"
   ]
  },
  {
   "cell_type": "code",
   "execution_count": 35,
   "metadata": {},
   "outputs": [
    {
     "data": {
      "text/plain": [
       "<matplotlib.legend.Legend at 0x1350e3a8880>"
      ]
     },
     "execution_count": 35,
     "metadata": {},
     "output_type": "execute_result"
    },
    {
     "data": {
      "image/png": "[encoded data removed]",
      "text/plain": [
       "<Figure size 640x480 with 1 Axes>"
      ]
     },
     "metadata": {},
     "output_type": "display_data"
    }
   ],
   "source": [
    "sns.scatterplot(data=master_df, x=\"NormalizedRTs\", y=\"Enjoyability\", hue=\"Condition\").set(title=\"Bad Correlation Graph between Reading Times and Enjoyability Ratings\")\n",
    "plt.legend(bbox_to_anchor=(1.25, 1), borderaxespad=0)"
   ]
  },
  {
   "cell_type": "markdown",
   "metadata": {},
   "source": [
    "... and also some code:"
   ]
  },
  {
   "cell_type": "code",
   "execution_count": 29,
   "metadata": {},
   "outputs": [
    {
     "data": {
      "text/plain": [
       "0.5537250877426035"
      ]
     },
     "execution_count": 29,
     "metadata": {},
     "output_type": "execute_result"
    }
   ],
   "source": [
    "# Checking correlations between RTs and Enjoyability (CLoser to 1 ~ More correlated)\n",
    "master_df['NormalizedRTs'].corr(master_df['Enjoyability'])"
   ]
  }
 ],
 "metadata": {
  "kernelspec": {
   "display_name": "verbs",
   "language": "python",
   "name": "python3"
  },
  "language_info": {
   "codemirror_mode": {
    "name": "ipython",
    "version": 3
   },
   "file_extension": ".py",
   "mimetype": "text/x-python",
   "name": "python",
   "nbconvert_exporter": "python",
   "pygments_lexer": "ipython3",
   "version": "3.10.12"
  }
 },
 "nbformat": 4,
 "nbformat_minor": 2
}
